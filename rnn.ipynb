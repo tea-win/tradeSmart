{
 "cells": [
  {
   "cell_type": "code",
   "execution_count": 1,
   "metadata": {},
   "outputs": [],
   "source": [
    "import numpy as np\n",
    "import matplotlib.pyplot as plt\n",
    "import pandas as pd"
   ]
  },
  {
   "cell_type": "code",
   "execution_count": 2,
   "metadata": {},
   "outputs": [],
   "source": [
    "dataset_train = pd.read_csv('data.csv')\n",
    "training_set = dataset_train.iloc[:, 1:2].values"
   ]
  },
  {
   "cell_type": "code",
   "execution_count": 3,
   "metadata": {},
   "outputs": [],
   "source": [
    "from sklearn.preprocessing import MinMaxScaler\n",
    "sc = MinMaxScaler(feature_range=(0,1))\n",
    "training_set_scaled = sc.fit_transform(training_set)"
   ]
  },
  {
   "cell_type": "code",
   "execution_count": 4,
   "metadata": {},
   "outputs": [],
   "source": [
    "#creating a data structure with 60 timesteps and 1 output\n",
    "x_train = []\n",
    "y_train = []\n",
    "for i in range(60, 499):\n",
    "    x_train.append(training_set_scaled[i-1:i, 0])\n",
    "    y_train.append(training_set_scaled[i, 0])\n",
    "\n",
    "x_train, y_train = np.array(x_train), np.array(y_train)\n",
    "\n",
    "#reshaping\n",
    "x_train = np.reshape(x_train, (x_train.shape[0], x_train.shape[1], 1))"
   ]
  },
  {
   "cell_type": "code",
   "execution_count": 5,
   "metadata": {},
   "outputs": [],
   "source": [
    "from keras.models import Sequential\n",
    "from keras.layers import LSTM\n",
    "from keras.layers import Dense\n",
    "from keras.layers import Dropout"
   ]
  },
  {
   "cell_type": "code",
   "execution_count": 6,
   "metadata": {},
   "outputs": [],
   "source": [
    "#initilising the RNN\n",
    "regressor = Sequential()"
   ]
  },
  {
   "cell_type": "code",
   "execution_count": 7,
   "metadata": {},
   "outputs": [],
   "source": [
    "#adding the first LSTM Layer and some Dropout regularisation\n",
    "regressor.add(LSTM(units = 50, return_sequences = True, input_shape= (x_train.shape[1],1)))\n",
    "regressor.add(Dropout(0.2))"
   ]
  },
  {
   "cell_type": "code",
   "execution_count": 8,
   "metadata": {},
   "outputs": [],
   "source": [
    "#adding a second LSTM layer and some dropout regularisation\n",
    "regressor.add(LSTM(units = 50, return_sequences = True))\n",
    "regressor.add(Dropout(0.2))"
   ]
  },
  {
   "cell_type": "code",
   "execution_count": 9,
   "metadata": {},
   "outputs": [],
   "source": [
    "#adding a third LSTM layer and some dropout regularisation\n",
    "regressor.add(LSTM(units = 50, return_sequences = True))\n",
    "regressor.add(Dropout(0.2))"
   ]
  },
  {
   "cell_type": "code",
   "execution_count": 10,
   "metadata": {},
   "outputs": [],
   "source": [
    "#adding a fourth LSTM layer and some dropout regularisation\n",
    "regressor.add(LSTM(units = 50))\n",
    "regressor.add(Dropout(0.2))"
   ]
  },
  {
   "cell_type": "code",
   "execution_count": 11,
   "metadata": {},
   "outputs": [],
   "source": [
    "#adding the output layer\n",
    "regressor.add(Dense(units=1))"
   ]
  },
  {
   "cell_type": "code",
   "execution_count": 12,
   "metadata": {},
   "outputs": [],
   "source": [
    "#compiling the rnn\n",
    "regressor.compile(optimizer='adam', loss='mean_squared_error')"
   ]
  },
  {
   "cell_type": "code",
   "execution_count": 13,
   "metadata": {},
   "outputs": [
    {
     "name": "stdout",
     "output_type": "stream",
     "text": [
      "Epoch 1/100\n",
      "11/11 [==============================] - 0s 7ms/step - loss: 0.2505\n",
      "Epoch 2/100\n",
      "11/11 [==============================] - 0s 7ms/step - loss: 0.2044\n",
      "Epoch 3/100\n",
      "11/11 [==============================] - 0s 8ms/step - loss: 0.1389\n",
      "Epoch 4/100\n",
      "11/11 [==============================] - 0s 8ms/step - loss: 0.0580\n",
      "Epoch 5/100\n",
      "11/11 [==============================] - 0s 8ms/step - loss: 0.0380\n",
      "Epoch 6/100\n",
      "11/11 [==============================] - 0s 7ms/step - loss: 0.0306\n",
      "Epoch 7/100\n",
      "11/11 [==============================] - 0s 7ms/step - loss: 0.0305\n",
      "Epoch 8/100\n",
      "11/11 [==============================] - 0s 8ms/step - loss: 0.0239\n",
      "Epoch 9/100\n",
      "11/11 [==============================] - 0s 8ms/step - loss: 0.0220\n",
      "Epoch 10/100\n",
      "11/11 [==============================] - 0s 7ms/step - loss: 0.0171\n",
      "Epoch 11/100\n",
      "11/11 [==============================] - 0s 7ms/step - loss: 0.0149\n",
      "Epoch 12/100\n",
      "11/11 [==============================] - 0s 7ms/step - loss: 0.0102\n",
      "Epoch 13/100\n",
      "11/11 [==============================] - 0s 7ms/step - loss: 0.0075\n",
      "Epoch 14/100\n",
      "11/11 [==============================] - 0s 8ms/step - loss: 0.0079\n",
      "Epoch 15/100\n",
      "11/11 [==============================] - 0s 8ms/step - loss: 0.0081\n",
      "Epoch 16/100\n",
      "11/11 [==============================] - 0s 7ms/step - loss: 0.0079\n",
      "Epoch 17/100\n",
      "11/11 [==============================] - 0s 7ms/step - loss: 0.0060\n",
      "Epoch 18/100\n",
      "11/11 [==============================] - 0s 7ms/step - loss: 0.0056\n",
      "Epoch 19/100\n",
      "11/11 [==============================] - 0s 7ms/step - loss: 0.0066\n",
      "Epoch 20/100\n",
      "11/11 [==============================] - 0s 7ms/step - loss: 0.0063\n",
      "Epoch 21/100\n",
      "11/11 [==============================] - 0s 6ms/step - loss: 0.0066\n",
      "Epoch 22/100\n",
      "11/11 [==============================] - 0s 8ms/step - loss: 0.0055\n",
      "Epoch 23/100\n",
      "11/11 [==============================] - 0s 8ms/step - loss: 0.0067\n",
      "Epoch 24/100\n",
      "11/11 [==============================] - 0s 8ms/step - loss: 0.0051\n",
      "Epoch 25/100\n",
      "11/11 [==============================] - 0s 8ms/step - loss: 0.0057\n",
      "Epoch 26/100\n",
      "11/11 [==============================] - 0s 10ms/step - loss: 0.0057\n",
      "Epoch 27/100\n",
      "11/11 [==============================] - 0s 8ms/step - loss: 0.0064\n",
      "Epoch 28/100\n",
      "11/11 [==============================] - 0s 7ms/step - loss: 0.0062\n",
      "Epoch 29/100\n",
      "11/11 [==============================] - 0s 8ms/step - loss: 0.0049\n",
      "Epoch 30/100\n",
      "11/11 [==============================] - 0s 8ms/step - loss: 0.0060\n",
      "Epoch 31/100\n",
      "11/11 [==============================] - 0s 8ms/step - loss: 0.0049\n",
      "Epoch 32/100\n",
      "11/11 [==============================] - 0s 8ms/step - loss: 0.0058\n",
      "Epoch 33/100\n",
      "11/11 [==============================] - 0s 10ms/step - loss: 0.0050\n",
      "Epoch 34/100\n",
      "11/11 [==============================] - 0s 8ms/step - loss: 0.0045\n",
      "Epoch 35/100\n",
      "11/11 [==============================] - 0s 8ms/step - loss: 0.0057\n",
      "Epoch 36/100\n",
      "11/11 [==============================] - 0s 8ms/step - loss: 0.0053\n",
      "Epoch 37/100\n",
      "11/11 [==============================] - 0s 8ms/step - loss: 0.0059\n",
      "Epoch 38/100\n",
      "11/11 [==============================] - 0s 8ms/step - loss: 0.0049\n",
      "Epoch 39/100\n",
      "11/11 [==============================] - 0s 8ms/step - loss: 0.0046\n",
      "Epoch 40/100\n",
      "11/11 [==============================] - 0s 8ms/step - loss: 0.0038\n",
      "Epoch 41/100\n",
      "11/11 [==============================] - 0s 9ms/step - loss: 0.0046\n",
      "Epoch 42/100\n",
      "11/11 [==============================] - 0s 7ms/step - loss: 0.0045\n",
      "Epoch 43/100\n",
      "11/11 [==============================] - 0s 8ms/step - loss: 0.0042\n",
      "Epoch 44/100\n",
      "11/11 [==============================] - 0s 8ms/step - loss: 0.0045\n",
      "Epoch 45/100\n",
      "11/11 [==============================] - 0s 8ms/step - loss: 0.0044\n",
      "Epoch 46/100\n",
      "11/11 [==============================] - 0s 8ms/step - loss: 0.0045\n",
      "Epoch 47/100\n",
      "11/11 [==============================] - 0s 8ms/step - loss: 0.0039\n",
      "Epoch 48/100\n",
      "11/11 [==============================] - 0s 8ms/step - loss: 0.0044\n",
      "Epoch 49/100\n",
      "11/11 [==============================] - 0s 8ms/step - loss: 0.0045\n",
      "Epoch 50/100\n",
      "11/11 [==============================] - 0s 7ms/step - loss: 0.0043\n",
      "Epoch 51/100\n",
      "11/11 [==============================] - 0s 8ms/step - loss: 0.0040\n",
      "Epoch 52/100\n",
      "11/11 [==============================] - 0s 7ms/step - loss: 0.0047\n",
      "Epoch 53/100\n",
      "11/11 [==============================] - 0s 7ms/step - loss: 0.0046\n",
      "Epoch 54/100\n",
      "11/11 [==============================] - 0s 8ms/step - loss: 0.0042\n",
      "Epoch 55/100\n",
      "11/11 [==============================] - 0s 8ms/step - loss: 0.0035\n",
      "Epoch 56/100\n",
      "11/11 [==============================] - 0s 8ms/step - loss: 0.0038\n",
      "Epoch 57/100\n",
      "11/11 [==============================] - 0s 8ms/step - loss: 0.0038\n",
      "Epoch 58/100\n",
      "11/11 [==============================] - 0s 8ms/step - loss: 0.0041\n",
      "Epoch 59/100\n",
      "11/11 [==============================] - 0s 7ms/step - loss: 0.0039\n",
      "Epoch 60/100\n",
      "11/11 [==============================] - 0s 8ms/step - loss: 0.0035\n",
      "Epoch 61/100\n",
      "11/11 [==============================] - 0s 7ms/step - loss: 0.0042\n",
      "Epoch 62/100\n",
      "11/11 [==============================] - 0s 8ms/step - loss: 0.0031\n",
      "Epoch 63/100\n",
      "11/11 [==============================] - 0s 8ms/step - loss: 0.0037\n",
      "Epoch 64/100\n",
      "11/11 [==============================] - 0s 7ms/step - loss: 0.0031\n",
      "Epoch 65/100\n",
      "11/11 [==============================] - 0s 7ms/step - loss: 0.0034\n",
      "Epoch 66/100\n",
      "11/11 [==============================] - 0s 8ms/step - loss: 0.0037\n",
      "Epoch 67/100\n",
      "11/11 [==============================] - 0s 7ms/step - loss: 0.0034\n",
      "Epoch 68/100\n",
      "11/11 [==============================] - 0s 8ms/step - loss: 0.0033\n",
      "Epoch 69/100\n",
      "11/11 [==============================] - 0s 7ms/step - loss: 0.0033\n",
      "Epoch 70/100\n",
      "11/11 [==============================] - 0s 7ms/step - loss: 0.0035\n",
      "Epoch 71/100\n",
      "11/11 [==============================] - 0s 7ms/step - loss: 0.0034\n",
      "Epoch 72/100\n",
      "11/11 [==============================] - 0s 8ms/step - loss: 0.0037\n",
      "Epoch 73/100\n",
      "11/11 [==============================] - 0s 7ms/step - loss: 0.0033\n",
      "Epoch 74/100\n",
      "11/11 [==============================] - 0s 7ms/step - loss: 0.0030\n",
      "Epoch 75/100\n",
      "11/11 [==============================] - 0s 7ms/step - loss: 0.0028\n",
      "Epoch 76/100\n",
      "11/11 [==============================] - 0s 8ms/step - loss: 0.0031\n",
      "Epoch 77/100\n",
      "11/11 [==============================] - 0s 8ms/step - loss: 0.0029\n",
      "Epoch 78/100\n",
      "11/11 [==============================] - 0s 7ms/step - loss: 0.0029\n",
      "Epoch 79/100\n",
      "11/11 [==============================] - 0s 7ms/step - loss: 0.0035\n",
      "Epoch 80/100\n",
      "11/11 [==============================] - 0s 8ms/step - loss: 0.0032\n",
      "Epoch 81/100\n",
      "11/11 [==============================] - 0s 7ms/step - loss: 0.0031\n",
      "Epoch 82/100\n",
      "11/11 [==============================] - 0s 7ms/step - loss: 0.0034\n",
      "Epoch 83/100\n",
      "11/11 [==============================] - 0s 8ms/step - loss: 0.0031\n",
      "Epoch 84/100\n",
      "11/11 [==============================] - 0s 7ms/step - loss: 0.0028\n",
      "Epoch 85/100\n",
      "11/11 [==============================] - 0s 9ms/step - loss: 0.0027\n",
      "Epoch 86/100\n",
      "11/11 [==============================] - 0s 8ms/step - loss: 0.0031\n",
      "Epoch 87/100\n",
      "11/11 [==============================] - 0s 7ms/step - loss: 0.0031\n",
      "Epoch 88/100\n",
      "11/11 [==============================] - 0s 9ms/step - loss: 0.0029\n",
      "Epoch 89/100\n",
      "11/11 [==============================] - 0s 7ms/step - loss: 0.0033\n",
      "Epoch 90/100\n",
      "11/11 [==============================] - 0s 7ms/step - loss: 0.0027\n",
      "Epoch 91/100\n",
      "11/11 [==============================] - 0s 7ms/step - loss: 0.0031\n",
      "Epoch 92/100\n",
      "11/11 [==============================] - 0s 7ms/step - loss: 0.0026\n",
      "Epoch 93/100\n",
      "11/11 [==============================] - 0s 8ms/step - loss: 0.0027\n",
      "Epoch 94/100\n",
      "11/11 [==============================] - 0s 7ms/step - loss: 0.0026\n",
      "Epoch 95/100\n",
      "11/11 [==============================] - 0s 7ms/step - loss: 0.0033\n",
      "Epoch 96/100\n",
      "11/11 [==============================] - 0s 7ms/step - loss: 0.0032\n",
      "Epoch 97/100\n",
      "11/11 [==============================] - 0s 7ms/step - loss: 0.0028\n",
      "Epoch 98/100\n",
      "11/11 [==============================] - 0s 7ms/step - loss: 0.0025\n",
      "Epoch 99/100\n",
      "11/11 [==============================] - 0s 7ms/step - loss: 0.0028\n",
      "Epoch 100/100\n",
      "11/11 [==============================] - 0s 7ms/step - loss: 0.0029\n"
     ]
    },
    {
     "data": {
      "text/plain": [
       "<tensorflow.python.keras.callbacks.History at 0x25a95fe2108>"
      ]
     },
     "execution_count": 13,
     "metadata": {},
     "output_type": "execute_result"
    }
   ],
   "source": [
    "#Fitting the RNN to the training set\n",
    "regressor.fit(x_train, y_train, epochs=100, batch_size=40)"
   ]
  },
  {
   "cell_type": "code",
   "execution_count": 26,
   "metadata": {},
   "outputs": [],
   "source": [
    "#Getting the real price\n",
    "dataset_test = pd.read_csv('data.csv')\n",
    "real_price = dataset_test.iloc[:, 1:2].values\n",
    "df1 = pd.DataFrame(data=numpy_data1, columns=['Open (Real)'])\n",
    "df1.to_csv('predicted_data.csv')"
   ]
  },
  {
   "cell_type": "code",
   "execution_count": 39,
   "metadata": {},
   "outputs": [
    {
     "ename": "ValueError",
     "evalue": "Must pass 2-d input. shape=(2, 500, 1)",
     "output_type": "error",
     "traceback": [
      "\u001b[1;31m---------------------------------------------------------------------------\u001b[0m",
      "\u001b[1;31mValueError\u001b[0m                                Traceback (most recent call last)",
      "\u001b[1;32m<ipython-input-39-77a2bdeec785>\u001b[0m in \u001b[0;36m<module>\u001b[1;34m\u001b[0m\n\u001b[0;32m     17\u001b[0m \u001b[0mnd\u001b[0m \u001b[1;33m=\u001b[0m \u001b[0mnp\u001b[0m\u001b[1;33m.\u001b[0m\u001b[0marray\u001b[0m\u001b[1;33m(\u001b[0m\u001b[0mpredicted_price\u001b[0m\u001b[1;33m)\u001b[0m\u001b[1;33m\u001b[0m\u001b[1;33m\u001b[0m\u001b[0m\n\u001b[0;32m     18\u001b[0m \u001b[0mnd1\u001b[0m \u001b[1;33m=\u001b[0m \u001b[0mnp\u001b[0m\u001b[1;33m.\u001b[0m\u001b[0marray\u001b[0m\u001b[1;33m(\u001b[0m\u001b[0mreal_price\u001b[0m\u001b[1;33m)\u001b[0m\u001b[1;33m\u001b[0m\u001b[1;33m\u001b[0m\u001b[0m\n\u001b[1;32m---> 19\u001b[1;33m \u001b[0mdf\u001b[0m \u001b[1;33m=\u001b[0m \u001b[0mpd\u001b[0m\u001b[1;33m.\u001b[0m\u001b[0mDataFrame\u001b[0m\u001b[1;33m(\u001b[0m\u001b[0mdata\u001b[0m\u001b[1;33m=\u001b[0m\u001b[1;33m[\u001b[0m\u001b[0mnd\u001b[0m\u001b[1;33m,\u001b[0m \u001b[0mnd1\u001b[0m\u001b[1;33m]\u001b[0m\u001b[1;33m,\u001b[0m \u001b[0mcolumns\u001b[0m\u001b[1;33m=\u001b[0m\u001b[1;33m[\u001b[0m\u001b[1;34m'Open (Predicted)'\u001b[0m\u001b[1;33m,\u001b[0m \u001b[1;34m'Open(Real)'\u001b[0m\u001b[1;33m]\u001b[0m\u001b[1;33m)\u001b[0m\u001b[1;33m.\u001b[0m\u001b[0mT\u001b[0m\u001b[1;33m\u001b[0m\u001b[1;33m\u001b[0m\u001b[0m\n\u001b[0m\u001b[0;32m     20\u001b[0m \u001b[0mdf\u001b[0m\u001b[1;33m.\u001b[0m\u001b[0mto_csv\u001b[0m\u001b[1;33m(\u001b[0m\u001b[1;34m'predicted_data.csv'\u001b[0m\u001b[1;33m)\u001b[0m\u001b[1;33m\u001b[0m\u001b[1;33m\u001b[0m\u001b[0m\n\u001b[0;32m     21\u001b[0m \u001b[0mprint\u001b[0m\u001b[1;33m(\u001b[0m\u001b[0mdf\u001b[0m\u001b[1;33m)\u001b[0m\u001b[1;33m\u001b[0m\u001b[1;33m\u001b[0m\u001b[0m\n",
      "\u001b[1;32mc:\\users\\lenovo\\pycharmprojects\\tradesmart\\venv\\lib\\site-packages\\pandas\\core\\frame.py\u001b[0m in \u001b[0;36m__init__\u001b[1;34m(self, data, index, columns, dtype, copy)\u001b[0m\n\u001b[0;32m    521\u001b[0m                     \u001b[0mmgr\u001b[0m \u001b[1;33m=\u001b[0m \u001b[0marrays_to_mgr\u001b[0m\u001b[1;33m(\u001b[0m\u001b[0marrays\u001b[0m\u001b[1;33m,\u001b[0m \u001b[0mcolumns\u001b[0m\u001b[1;33m,\u001b[0m \u001b[0mindex\u001b[0m\u001b[1;33m,\u001b[0m \u001b[0mcolumns\u001b[0m\u001b[1;33m,\u001b[0m \u001b[0mdtype\u001b[0m\u001b[1;33m=\u001b[0m\u001b[0mdtype\u001b[0m\u001b[1;33m)\u001b[0m\u001b[1;33m\u001b[0m\u001b[1;33m\u001b[0m\u001b[0m\n\u001b[0;32m    522\u001b[0m                 \u001b[1;32melse\u001b[0m\u001b[1;33m:\u001b[0m\u001b[1;33m\u001b[0m\u001b[1;33m\u001b[0m\u001b[0m\n\u001b[1;32m--> 523\u001b[1;33m                     \u001b[0mmgr\u001b[0m \u001b[1;33m=\u001b[0m \u001b[0minit_ndarray\u001b[0m\u001b[1;33m(\u001b[0m\u001b[0mdata\u001b[0m\u001b[1;33m,\u001b[0m \u001b[0mindex\u001b[0m\u001b[1;33m,\u001b[0m \u001b[0mcolumns\u001b[0m\u001b[1;33m,\u001b[0m \u001b[0mdtype\u001b[0m\u001b[1;33m=\u001b[0m\u001b[0mdtype\u001b[0m\u001b[1;33m,\u001b[0m \u001b[0mcopy\u001b[0m\u001b[1;33m=\u001b[0m\u001b[0mcopy\u001b[0m\u001b[1;33m)\u001b[0m\u001b[1;33m\u001b[0m\u001b[1;33m\u001b[0m\u001b[0m\n\u001b[0m\u001b[0;32m    524\u001b[0m             \u001b[1;32melse\u001b[0m\u001b[1;33m:\u001b[0m\u001b[1;33m\u001b[0m\u001b[1;33m\u001b[0m\u001b[0m\n\u001b[0;32m    525\u001b[0m                 \u001b[0mmgr\u001b[0m \u001b[1;33m=\u001b[0m \u001b[0minit_dict\u001b[0m\u001b[1;33m(\u001b[0m\u001b[1;33m{\u001b[0m\u001b[1;33m}\u001b[0m\u001b[1;33m,\u001b[0m \u001b[0mindex\u001b[0m\u001b[1;33m,\u001b[0m \u001b[0mcolumns\u001b[0m\u001b[1;33m,\u001b[0m \u001b[0mdtype\u001b[0m\u001b[1;33m=\u001b[0m\u001b[0mdtype\u001b[0m\u001b[1;33m)\u001b[0m\u001b[1;33m\u001b[0m\u001b[1;33m\u001b[0m\u001b[0m\n",
      "\u001b[1;32mc:\\users\\lenovo\\pycharmprojects\\tradesmart\\venv\\lib\\site-packages\\pandas\\core\\internals\\construction.py\u001b[0m in \u001b[0;36minit_ndarray\u001b[1;34m(values, index, columns, dtype, copy)\u001b[0m\n\u001b[0;32m    188\u001b[0m     \u001b[1;31m# by definition an array here\u001b[0m\u001b[1;33m\u001b[0m\u001b[1;33m\u001b[0m\u001b[1;33m\u001b[0m\u001b[0m\n\u001b[0;32m    189\u001b[0m     \u001b[1;31m# the dtypes will be coerced to a single dtype\u001b[0m\u001b[1;33m\u001b[0m\u001b[1;33m\u001b[0m\u001b[1;33m\u001b[0m\u001b[0m\n\u001b[1;32m--> 190\u001b[1;33m     \u001b[0mvalues\u001b[0m \u001b[1;33m=\u001b[0m \u001b[0m_prep_ndarray\u001b[0m\u001b[1;33m(\u001b[0m\u001b[0mvalues\u001b[0m\u001b[1;33m,\u001b[0m \u001b[0mcopy\u001b[0m\u001b[1;33m=\u001b[0m\u001b[0mcopy\u001b[0m\u001b[1;33m)\u001b[0m\u001b[1;33m\u001b[0m\u001b[1;33m\u001b[0m\u001b[0m\n\u001b[0m\u001b[0;32m    191\u001b[0m \u001b[1;33m\u001b[0m\u001b[0m\n\u001b[0;32m    192\u001b[0m     \u001b[1;32mif\u001b[0m \u001b[0mdtype\u001b[0m \u001b[1;32mis\u001b[0m \u001b[1;32mnot\u001b[0m \u001b[1;32mNone\u001b[0m\u001b[1;33m:\u001b[0m\u001b[1;33m\u001b[0m\u001b[1;33m\u001b[0m\u001b[0m\n",
      "\u001b[1;32mc:\\users\\lenovo\\pycharmprojects\\tradesmart\\venv\\lib\\site-packages\\pandas\\core\\internals\\construction.py\u001b[0m in \u001b[0;36m_prep_ndarray\u001b[1;34m(values, copy)\u001b[0m\n\u001b[0;32m    322\u001b[0m         \u001b[0mvalues\u001b[0m \u001b[1;33m=\u001b[0m \u001b[0mvalues\u001b[0m\u001b[1;33m.\u001b[0m\u001b[0mreshape\u001b[0m\u001b[1;33m(\u001b[0m\u001b[1;33m(\u001b[0m\u001b[0mvalues\u001b[0m\u001b[1;33m.\u001b[0m\u001b[0mshape\u001b[0m\u001b[1;33m[\u001b[0m\u001b[1;36m0\u001b[0m\u001b[1;33m]\u001b[0m\u001b[1;33m,\u001b[0m \u001b[1;36m1\u001b[0m\u001b[1;33m)\u001b[0m\u001b[1;33m)\u001b[0m\u001b[1;33m\u001b[0m\u001b[1;33m\u001b[0m\u001b[0m\n\u001b[0;32m    323\u001b[0m     \u001b[1;32melif\u001b[0m \u001b[0mvalues\u001b[0m\u001b[1;33m.\u001b[0m\u001b[0mndim\u001b[0m \u001b[1;33m!=\u001b[0m \u001b[1;36m2\u001b[0m\u001b[1;33m:\u001b[0m\u001b[1;33m\u001b[0m\u001b[1;33m\u001b[0m\u001b[0m\n\u001b[1;32m--> 324\u001b[1;33m         \u001b[1;32mraise\u001b[0m \u001b[0mValueError\u001b[0m\u001b[1;33m(\u001b[0m\u001b[1;34mf\"Must pass 2-d input. shape={values.shape}\"\u001b[0m\u001b[1;33m)\u001b[0m\u001b[1;33m\u001b[0m\u001b[1;33m\u001b[0m\u001b[0m\n\u001b[0m\u001b[0;32m    325\u001b[0m \u001b[1;33m\u001b[0m\u001b[0m\n\u001b[0;32m    326\u001b[0m     \u001b[1;32mreturn\u001b[0m \u001b[0mvalues\u001b[0m\u001b[1;33m\u001b[0m\u001b[1;33m\u001b[0m\u001b[0m\n",
      "\u001b[1;31mValueError\u001b[0m: Must pass 2-d input. shape=(2, 500, 1)"
     ]
    }
   ],
   "source": [
    "#Getting the predicted price\n",
    "\n",
    "dataset_total=pd.concat((dataset_train['open'], dataset_test['open']), axis=0)\n",
    "inputs = dataset_total[len(dataset_total) - len(dataset_train) - 60:].values\n",
    "inputs = inputs.reshape(-1, 1)\n",
    "inputs = sc.transform(inputs)\n",
    "x_test =[]\n",
    "for i in range(1,501):\n",
    "    x_test.append(inputs[i-1:i,0])\n",
    "    \n",
    "x_test = np.array(x_test)\n",
    "x_test = np.reshape(x_test, (x_test.shape[0], x_test.shape[1], 1))\n",
    "predicted_price = regressor.predict(x_test)\n",
    "predicted_price = sc.inverse_transform(predicted_price)\n",
    "\n",
    "\n",
    "nd = np.array(predicted_price)\n",
    "nd1 = np.array(real_price)\n",
    "df = pd.DataFrame(data=[nd, nd1], columns=['Open (Predicted)', 'Open(Real)']).T\n",
    "df.to_csv('predicted_data.csv')\n",
    "print(df)"
   ]
  },
  {
   "cell_type": "code",
   "execution_count": 29,
   "metadata": {},
   "outputs": [
    {
     "data": {
      "image/png": "[encoded data removed]",
      "text/plain": [
       "<Figure size 432x288 with 1 Axes>"
      ]
     },
     "metadata": {
      "needs_background": "light"
     },
     "output_type": "display_data"
    }
   ],
   "source": [
    "#visualising the results\n",
    "plt.plot(real_price, color='red', label= 'real price')\n",
    "plt.plot(predicted_price, color='blue', label= 'predicted price')\n",
    "plt.title('Prediction')\n",
    "plt.xlabel('Time')\n",
    "plt.ylabel('Open Price')\n",
    "plt.legend()\n",
    "plt.show()"
   ]
  },
  {
   "cell_type": "code",
   "execution_count": null,
   "metadata": {},
   "outputs": [],
   "source": []
  },
  {
   "cell_type": "code",
   "execution_count": null,
   "metadata": {},
   "outputs": [],
   "source": []
  }
 ],
 "metadata": {
  "kernelspec": {
   "display_name": "Python 3",
   "language": "python",
   "name": "python3"
  },
  "language_info": {
   "codemirror_mode": {
    "name": "ipython",
    "version": 3
   },
   "file_extension": ".py",
   "mimetype": "text/x-python",
   "name": "python",
   "nbconvert_exporter": "python",
   "pygments_lexer": "ipython3",
   "version": "3.7.9"
  }
 },
 "nbformat": 4,
 "nbformat_minor": 4
}
